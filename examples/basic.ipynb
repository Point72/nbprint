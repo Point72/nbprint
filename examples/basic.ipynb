{
 "cells": [
  {
   "cell_type": "markdown",
   "id": "1cc2217f",
   "metadata": {
    "nbprint": {
     "attrs": "",
     "class": "nbprint nbprint-config-content-base-ContentMarkdown nbprint-config-content-base-ContentMarkdown-a33e7098ce1b4272ab4e1d7826d00adb ",
     "class_selector": "nbprint-config-content-base-ContentMarkdown",
     "css": ":scope { text-align: center; }",
     "element_selector": "nbprint-config-content-base-ContentMarkdown-a33e7098ce1b4272ab4e1d7826d00adb",
     "esm": "",
     "id": "a33e7098ce1b4272ab4e1d7826d00adb",
     "ignore": false,
     "role": "content",
     "type": "nbprint.config.content.base:ContentMarkdown"
    },
    "tags": [
     "nbprint",
     "nbprint:content"
    ]
   },
   "source": [
    "# A Generic Report\n",
    "## A Subtitle\n"
   ]
  },
  {
   "cell_type": "code",
   "execution_count": 4,
   "id": "3884949f",
   "metadata": {},
   "outputs": [
    {
     "data": {
      "text/html": [
       "<p style=\"page-break-before: always;\">\n",
       "</p>"
      ],
      "text/plain": [
       "<IPython.core.display.HTML object>"
      ]
     },
     "execution_count": 4,
     "metadata": {},
     "output_type": "execute_result"
    }
   ],
   "source": [
    "from nbprint import newpage; newpage()"
   ]
  },
  {
   "cell_type": "markdown",
   "id": "cf7e8ffd",
   "metadata": {
    "nbprint": {
     "attrs": "",
     "class": "nbprint nbprint-config-content-base-ContentMarkdown nbprint-config-content-base-ContentMarkdown-2bdfe918e99e41ae862382852995f014 ",
     "class_selector": "nbprint-config-content-base-ContentMarkdown",
     "css": "",
     "element_selector": "nbprint-config-content-base-ContentMarkdown-2bdfe918e99e41ae862382852995f014",
     "esm": "",
     "id": "2bdfe918e99e41ae862382852995f014",
     "ignore": false,
     "role": "content",
     "type": "nbprint.config.content.base:ContentMarkdown"
    },
    "tags": [
     "nbprint",
     "nbprint:content"
    ]
   },
   "source": [
    "# Section One\n",
    "Lorem ipsum dolor sit amet.\n",
    "## Subsection One\n",
    "Consectetur adipiscing elit, sed do eiusmod tempor incididunt.\n",
    "## Subsection Two\n",
    "Ut labore et dolore magna aliqua.\n"
   ]
  },
  {
   "cell_type": "code",
   "execution_count": 5,
   "id": "f7c28052",
   "metadata": {},
   "outputs": [
    {
     "data": {
      "text/html": [
       "<p style=\"page-break-before: always;\">\n",
       "</p>"
      ],
      "text/plain": [
       "<IPython.core.display.HTML object>"
      ]
     },
     "execution_count": 5,
     "metadata": {},
     "output_type": "execute_result"
    }
   ],
   "source": [
    "from nbprint import newpage; newpage()"
   ]
  },
  {
   "cell_type": "markdown",
   "id": "b4582bb2",
   "metadata": {
    "nbprint": {
     "attrs": "",
     "class": "nbprint nbprint-config-content-base-ContentMarkdown nbprint-config-content-base-ContentMarkdown-6a16860e36614465a4f369ac135cf8f4 ",
     "class_selector": "nbprint-config-content-base-ContentMarkdown",
     "css": "",
     "element_selector": "nbprint-config-content-base-ContentMarkdown-6a16860e36614465a4f369ac135cf8f4",
     "esm": "",
     "id": "6a16860e36614465a4f369ac135cf8f4",
     "ignore": false,
     "parent-id": "31cf9b93548249adb341bc3539c8a263",
     "role": "content",
     "type": "nbprint.config.content.base:ContentMarkdown"
    },
    "tags": [
     "nbprint",
     "nbprint:content"
    ]
   },
   "source": [
    "# Section Two\n",
    "Lorem ipsum dolor sit amet.\n",
    "## Subsection One\n",
    "Consectetur adipiscing elit, sed do eiusmod tempor incididunt.\n"
   ]
  },
  {
   "cell_type": "code",
   "execution_count": 6,
   "id": "9bc67cf6",
   "metadata": {
    "nbprint": {
     "attrs": "",
     "class": "nbprint nbprint-config-content-page-ContentFlexColumnLayout nbprint-config-content-page-ContentFlexColumnLayout-d74d74e7abcb4021b08d7aae3dc069bc ",
     "class_selector": "nbprint-config-content-page-ContentFlexColumnLayout",
     "css": "\n:scope { display: flex; flex-direction: column; break-inside: auto; }\n",
     "data": "{\"_target_\":{\"module\":\"nbprint.config.content.page\",\"name\":\"ContentFlexColumnLayout\"},\"tags\":[\"nbprint:content\"],\"role\":\"layout\",\"ignore\":false,\"css\":\"\\n:scope { display: flex; flex-direction: column; break-inside: auto; }\\n\",\"esm\":\"\\nfunction render(meta, elem) {\\n    let data = JSON.parse(meta.data);\\n\\n    if (data.sizes.length <= 0 )\\n        return;\\n\\n    let size_index = 0;\\n\\n    Array.from(elem.children).forEach((child) => {\\n        let size = data.sizes[size_index];\\n\\n        if (!size)\\n            return;\\n\\n        // TODO:these are hacks to determine\\n        // if it should be included\\n        let output_children = (child.querySelector(\\\".jp-OutputArea-output\\\") || {}).children || [];\\n        if (Array.from(child.classList).includes(\\\"nbprint\\\")) {\\n            child.style.flex = `${size}`;\\n            size_index += 1;\\n        } else if (Array.from(output_children).length > 0) {\\n            child.style.flex = `${size}`;\\n            size_index += 1;\\n        } else {\\n            child.style.flex = \\\"0\\\";\\n        }\\n    });\\n}\\n\",\"classname\":\"\",\"attrs\":{},\"content\":[{\"_target_\":{\"module\":\"nbprint.config.content.base\",\"name\":\"ContentMarkdown\"},\"tags\":[\"nbprint:content\"],\"role\":\"content\",\"ignore\":false,\"css\":\"\",\"esm\":\"\",\"classname\":\"\",\"attrs\":{},\"content\":\"# Section Three\\nUt labore et dolore magna aliqua.\\n## Subsection One\\nUt enim ad minim veniam, quis nostrud.\\n\",\"style\":null}],\"style\":null,\"sizes\":[]}",
     "element_selector": "nbprint-config-content-page-ContentFlexColumnLayout-d74d74e7abcb4021b08d7aae3dc069bc",
     "esm": "\nfunction render(meta, elem) {\n    let data = JSON.parse(meta.data);\n\n    if (data.sizes.length <= 0 )\n        return;\n\n    let size_index = 0;\n\n    Array.from(elem.children).forEach((child) => {\n        let size = data.sizes[size_index];\n\n        if (!size)\n            return;\n\n        // TODO:these are hacks to determine\n        // if it should be included\n        let output_children = (child.querySelector(\".jp-OutputArea-output\") || {}).children || [];\n        if (Array.from(child.classList).includes(\"nbprint\")) {\n            child.style.flex = `${size}`;\n            size_index += 1;\n        } else if (Array.from(output_children).length > 0) {\n            child.style.flex = `${size}`;\n            size_index += 1;\n        } else {\n            child.style.flex = \"0\";\n        }\n    });\n}\n",
     "id": "d74d74e7abcb4021b08d7aae3dc069bc",
     "ignore": false,
     "parent-id": "8d0f275bf04a4543bb80c4456cf50276",
     "role": "layout",
     "type": "nbprint.config.content.page:ContentFlexColumnLayout"
    },
    "tags": [
     "nbprint",
     "nbprint:content"
    ]
   },
   "outputs": [
    {
     "data": {
      "text/html": [
       "<p style=\"page-break-before: always;\">\n",
       "</p>"
      ],
      "text/plain": [
       "<IPython.core.display.HTML object>"
      ]
     },
     "execution_count": 6,
     "metadata": {},
     "output_type": "execute_result"
    }
   ],
   "source": [
    "from nbprint import newpage; newpage()"
   ]
  },
  {
   "cell_type": "markdown",
   "id": "f80834e5",
   "metadata": {
    "nbprint": {
     "attrs": "",
     "class": "nbprint nbprint-config-content-base-ContentMarkdown nbprint-config-content-base-ContentMarkdown-d9fbd7bae1314278b2a6dc716a50382d ",
     "class_selector": "nbprint-config-content-base-ContentMarkdown",
     "css": "",
     "element_selector": "nbprint-config-content-base-ContentMarkdown-d9fbd7bae1314278b2a6dc716a50382d",
     "esm": "",
     "id": "d9fbd7bae1314278b2a6dc716a50382d",
     "ignore": false,
     "parent-id": "d74d74e7abcb4021b08d7aae3dc069bc",
     "role": "content",
     "type": "nbprint.config.content.base:ContentMarkdown"
    },
    "tags": [
     "nbprint",
     "nbprint:content"
    ]
   },
   "source": [
    "# Section Three\n",
    "Ut labore et dolore magna aliqua.\n",
    "## Subsection One\n",
    "Ut enim ad minim veniam, quis nostrud.\n"
   ]
  },
  {
   "cell_type": "markdown",
   "id": "0a7de372",
   "metadata": {},
   "source": []
  }
 ],
 "metadata": {
  "kernelspec": {
   "display_name": "base",
   "language": "python",
   "name": "python3"
  },
  "language_info": {
   "codemirror_mode": {
    "name": "ipython",
    "version": 3
   },
   "file_extension": ".py",
   "mimetype": "text/x-python",
   "name": "python",
   "nbconvert_exporter": "python",
   "pygments_lexer": "ipython3",
   "version": "3.11.14"
  },
  "nbprint": {
   "language": "python3.11",
   "nbprint": {},
   "tags": [],
   "version": "0.2.2"
  }
 },
 "nbformat": 4,
 "nbformat_minor": 5
}
